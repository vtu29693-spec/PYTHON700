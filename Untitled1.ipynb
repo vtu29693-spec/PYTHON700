{
  "nbformat": 4,
  "nbformat_minor": 0,
  "metadata": {
    "colab": {
      "provenance": [],
      "toc_visible": true,
      "authorship_tag": "ABX9TyNQZHTWg6swkUWbC+Nlaww9",
      "include_colab_link": true
    },
    "kernelspec": {
      "name": "python3",
      "display_name": "Python 3"
    },
    "language_info": {
      "name": "python"
    }
  },
  "cells": [
    {
      "cell_type": "markdown",
      "metadata": {
        "id": "view-in-github",
        "colab_type": "text"
      },
      "source": [
        "<a href=\"https://colab.research.google.com/github/vtu29693-spec/PYTHON700/blob/MAIN700/Untitled1.ipynb\" target=\"_parent\"><img src=\"https://colab.research.google.com/assets/colab-badge.svg\" alt=\"Open In Colab\"/></a>"
      ]
    },
    {
      "cell_type": "code",
      "source": [
        "def find_discount(qty):\n",
        "    if qty <= 10:\n",
        "        return 0\n",
        "    elif 11 <= qty <= 20:\n",
        "        return 15\n",
        "    else:\n",
        "        return 20\n",
        "\n",
        "def buy():\n",
        "    ICode = int(input(\"Enter Item Code: \"))\n",
        "    Item = input(\"Enter Item Name: \")\n",
        "    Price = float(input(\"Enter Price: \"))\n",
        "    Qty = int(input(\"Enter Quantity: \"))\n",
        "    Discount = find_discount(Qty)\n",
        "    Netprice = Price * Qty - Discount\n",
        "    return ICode, Item, Price, Qty, Discount, Netprice\n",
        "\n",
        "def show_all(ICode, Item, Price, Qty, Discount, Netprice):\n",
        "    print(\"Item Code:\", ICode)\n",
        "    print(\"Item:\", Item)\n",
        "    print(\"Price:\", Price)\n",
        "    print(\"Quantity:\", Qty)\n",
        "    print(\"Discount:\", Discount)\n",
        "    print(\"Net Price:\", Netprice)\n",
        "\n",
        "ICode, Item, Price, Qty, Discount, Netprice = buy()\n",
        "show_all(ICode, Item, Price, Qty, Discount, Netprice)\n"
      ],
      "metadata": {
        "colab": {
          "base_uri": "https://localhost:8080/"
        },
        "id": "3VDIiyJK5T-q",
        "outputId": "ef0d3c18-5cb6-473c-f88a-9bd4a897478e"
      },
      "execution_count": 13,
      "outputs": [
        {
          "output_type": "stream",
          "name": "stdout",
          "text": [
            "Enter Item Code: 150\n",
            "Enter Item Name: APPLE\n",
            "Enter Price: 25\n",
            "Enter Quantity: 7\n",
            "Item Code: 150\n",
            "Item: APPLE\n",
            "Price: 25.0\n",
            "Quantity: 7\n",
            "Discount: 0\n",
            "Net Price: 175.0\n"
          ]
        }
      ]
    },
    {
      "cell_type": "code",
      "source": [
        "def cube_product_of_natural_numbers(n):\n",
        "    product = 1\n",
        "    for i in range(1, n + 1):\n",
        "        product *= i ** 3\n",
        "    return product\n",
        "\n",
        "n = int(input(\"Enter the value of N: \"))\n",
        "result = cube_product_of_natural_numbers(n)\n",
        "print(\"Cube product of the first\", n, \"natural numbers is:\", result)\n"
      ],
      "metadata": {
        "colab": {
          "base_uri": "https://localhost:8080/"
        },
        "id": "vov10dAX5UBV",
        "outputId": "fb699619-cab4-4c1c-c945-df9484a0332f"
      },
      "execution_count": 14,
      "outputs": [
        {
          "output_type": "stream",
          "name": "stdout",
          "text": [
            "Enter the value of N: 3\n",
            "Cube product of the first 3 natural numbers is: 216\n"
          ]
        }
      ]
    },
    {
      "cell_type": "code",
      "source": [
        "def func_compute(n):\n",
        "    return lambda x: x * n\n",
        "\n",
        "result = func_compute(2)\n",
        "print(\"Double the number of 15 =\", result(15))\n",
        "\n",
        "result = func_compute(3)\n",
        "print(\"Triple the number of 15 =\", result(15))\n",
        "\n",
        "result = func_compute(4)\n",
        "print(\"Quadruple the number of 15 =\", result(15))\n",
        "\n",
        "result = func_compute(5)\n",
        "print(\"Quintuple the number 15 =\", result(15))\n"
      ],
      "metadata": {
        "colab": {
          "base_uri": "https://localhost:8080/"
        },
        "id": "CX6HrSyg5UD9",
        "outputId": "2e32b4ff-73c3-4311-938e-bb86b847a8e8"
      },
      "execution_count": 15,
      "outputs": [
        {
          "output_type": "stream",
          "name": "stdout",
          "text": [
            "Double the number of 15 = 30\n",
            "Triple the number of 15 = 45\n",
            "Quadruple the number of 15 = 60\n",
            "Quintuple the number 15 = 75\n"
          ]
        }
      ]
    },
    {
      "cell_type": "code",
      "source": [
        "def categorize_tickets(ticket_ids):\n",
        "    adult_tickets = list(filter(lambda x: x % 2 == 0, ticket_ids))\n",
        "    child_tickets = list(filter(lambda x: x % 2 != 0, ticket_ids))\n",
        "    return adult_tickets, child_tickets\n",
        "\n",
        "ticket_ids = [101, 202, 305, 410, 513, 620, 723, 830, 945, 1050]\n",
        "\n",
        "adult_tickets, child_tickets = categorize_tickets(ticket_ids)\n",
        "\n",
        "print(\"Adult Tickets:\", adult_tickets)\n",
        "print(\"Child Tickets:\", child_tickets)\n"
      ],
      "metadata": {
        "colab": {
          "base_uri": "https://localhost:8080/"
        },
        "id": "cMy-U_nW5UMR",
        "outputId": "41b44b75-a790-4baa-ce4b-0ff93e41c00f"
      },
      "execution_count": 16,
      "outputs": [
        {
          "output_type": "stream",
          "name": "stdout",
          "text": [
            "Adult Tickets: [202, 410, 620, 830, 1050]\n",
            "Child Tickets: [101, 305, 513, 723, 945]\n"
          ]
        }
      ]
    }
  ]
}